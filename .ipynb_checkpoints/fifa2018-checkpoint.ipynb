{
 "cells": [
  {
   "cell_type": "markdown",
   "metadata": {},
   "source": [
    "# Prediction Model to Decide Who will Win Between Two World Cup Nations\n"
   ]
  },
  {
   "cell_type": "code",
   "execution_count": 454,
   "metadata": {
    "collapsed": false
   },
   "outputs": [
    {
     "data": {
      "text/html": [
       "<div>\n",
       "<style>\n",
       "    .dataframe thead tr:only-child th {\n",
       "        text-align: right;\n",
       "    }\n",
       "\n",
       "    .dataframe thead th {\n",
       "        text-align: left;\n",
       "    }\n",
       "\n",
       "    .dataframe tbody tr th {\n",
       "        vertical-align: top;\n",
       "    }\n",
       "</style>\n",
       "<table border=\"1\" class=\"dataframe\">\n",
       "  <thead>\n",
       "    <tr style=\"text-align: right;\">\n",
       "      <th></th>\n",
       "      <th>date</th>\n",
       "      <th>home_team</th>\n",
       "      <th>away_team</th>\n",
       "      <th>home_score</th>\n",
       "      <th>away_score</th>\n",
       "      <th>tournament</th>\n",
       "      <th>city</th>\n",
       "      <th>country</th>\n",
       "      <th>neutral</th>\n",
       "    </tr>\n",
       "  </thead>\n",
       "  <tbody>\n",
       "    <tr>\n",
       "      <th>37119</th>\n",
       "      <td>2015-10-02</td>\n",
       "      <td>Oman</td>\n",
       "      <td>Syria</td>\n",
       "      <td>2</td>\n",
       "      <td>1</td>\n",
       "      <td>Friendly</td>\n",
       "      <td>Muscat</td>\n",
       "      <td>Oman</td>\n",
       "      <td>False</td>\n",
       "    </tr>\n",
       "    <tr>\n",
       "      <th>37120</th>\n",
       "      <td>2015-10-03</td>\n",
       "      <td>Jordan</td>\n",
       "      <td>Iraq</td>\n",
       "      <td>3</td>\n",
       "      <td>0</td>\n",
       "      <td>Friendly</td>\n",
       "      <td>Amman</td>\n",
       "      <td>Jordan</td>\n",
       "      <td>False</td>\n",
       "    </tr>\n",
       "    <tr>\n",
       "      <th>37121</th>\n",
       "      <td>2015-10-07</td>\n",
       "      <td>Comoros</td>\n",
       "      <td>Lesotho</td>\n",
       "      <td>0</td>\n",
       "      <td>0</td>\n",
       "      <td>FIFA World Cup qualification</td>\n",
       "      <td>Moroni</td>\n",
       "      <td>Comoros</td>\n",
       "      <td>False</td>\n",
       "    </tr>\n",
       "    <tr>\n",
       "      <th>37122</th>\n",
       "      <td>2015-10-07</td>\n",
       "      <td>Mauritius</td>\n",
       "      <td>Kenya</td>\n",
       "      <td>2</td>\n",
       "      <td>5</td>\n",
       "      <td>FIFA World Cup qualification</td>\n",
       "      <td>Mapou</td>\n",
       "      <td>Mauritius</td>\n",
       "      <td>False</td>\n",
       "    </tr>\n",
       "    <tr>\n",
       "      <th>37123</th>\n",
       "      <td>2015-10-07</td>\n",
       "      <td>Seychelles</td>\n",
       "      <td>Burundi</td>\n",
       "      <td>0</td>\n",
       "      <td>1</td>\n",
       "      <td>FIFA World Cup qualification</td>\n",
       "      <td>Roche Caiman</td>\n",
       "      <td>Seychelles</td>\n",
       "      <td>False</td>\n",
       "    </tr>\n",
       "  </tbody>\n",
       "</table>\n",
       "</div>"
      ],
      "text/plain": [
       "             date   home_team away_team  home_score  away_score  \\\n",
       "37119  2015-10-02        Oman     Syria           2           1   \n",
       "37120  2015-10-03      Jordan      Iraq           3           0   \n",
       "37121  2015-10-07     Comoros   Lesotho           0           0   \n",
       "37122  2015-10-07   Mauritius     Kenya           2           5   \n",
       "37123  2015-10-07  Seychelles   Burundi           0           1   \n",
       "\n",
       "                         tournament          city     country  neutral  \n",
       "37119                      Friendly        Muscat        Oman    False  \n",
       "37120                      Friendly         Amman      Jordan    False  \n",
       "37121  FIFA World Cup qualification        Moroni     Comoros    False  \n",
       "37122  FIFA World Cup qualification         Mapou   Mauritius    False  \n",
       "37123  FIFA World Cup qualification  Roche Caiman  Seychelles    False  "
      ]
     },
     "execution_count": 454,
     "metadata": {},
     "output_type": "execute_result"
    }
   ],
   "source": [
    "import pandas as pd\n",
    "import os\n",
    "\n",
    "os.chdir('/home/pier/Machine_Learning/fifa18_final16')\n",
    "df_results = pd.read_csv('data/results.csv')\n",
    "df_results = df_results[df_results['date'] > '2015-1-1']\n",
    "df_results.head()\n",
    "# df_new = df_results[(df_results['home_team'].str.contains(\"Germany\")) | (df_results['away_team'].str.contains(\"Germany\"))]\n",
    "# df_new"
   ]
  },
  {
   "cell_type": "code",
   "execution_count": 455,
   "metadata": {
    "collapsed": true
   },
   "outputs": [],
   "source": [
    "\n",
    "os.chdir('/home/pier/Machine_Learning/fifa18_final16')\n",
    "df_rankings = pd.read_csv('data/fifa_ranking.csv')\n",
    "df_rankings = df_rankings[df_rankings['rank_date'].str.contains('2018')]\n",
    "df_rankings =df_rankings.groupby('country_full')['rank', 'cur_year_avg_weighted'].mean()\n",
    "df_rankings\n",
    "# df_test = pd.DataFrame(df_test)\n",
    "# df_test.reset_index()\n",
    "df_rankings['country_full'] = df_rankings.index\n",
    "# df_test[df_test['country_full'].str.contains('Germany')]\n",
    "# df_test\n"
   ]
  },
  {
   "cell_type": "markdown",
   "metadata": {},
   "source": [
    "# Join into the main dataset and cleaning"
   ]
  },
  {
   "cell_type": "code",
   "execution_count": 456,
   "metadata": {
    "collapsed": true
   },
   "outputs": [],
   "source": [
    "df_combined = df_results.set_index('home_team').join(df_rankings.set_index('country_full'))\n",
    "df_combined.rename(columns={'rank' : 'home_rank', 'cur_year_avg_weighted' : 'home_weighted_points'}, inplace=True)\n",
    "df_combined['home_team'] = df_combined.index\n",
    "df_combined = df_combined.set_index('away_team').join(df_rankings.set_index('country_full'))\n",
    "df_combined.rename(columns={'rank' : 'away_rank', 'cur_year_avg_weighted' : 'away_weighted_points'}, inplace=True)\n",
    "df_combined['away_team'] = df_combined.index"
   ]
  },
  {
   "cell_type": "markdown",
   "metadata": {},
   "source": [
    "Drop scores, and only use win/lose as the predictor"
   ]
  },
  {
   "cell_type": "code",
   "execution_count": 457,
   "metadata": {
    "collapsed": true
   },
   "outputs": [],
   "source": [
    "df_combined = df_combined.dropna()\n",
    "df_combined = df_combined[~df_combined['tournament'].str.contains('Friendly')]\n",
    "\n"
   ]
  },
  {
   "cell_type": "code",
   "execution_count": null,
   "metadata": {
    "collapsed": true
   },
   "outputs": [],
   "source": []
  },
  {
   "cell_type": "code",
   "execution_count": 458,
   "metadata": {
    "collapsed": false
   },
   "outputs": [
    {
     "data": {
      "text/html": [
       "<div>\n",
       "<style>\n",
       "    .dataframe thead tr:only-child th {\n",
       "        text-align: right;\n",
       "    }\n",
       "\n",
       "    .dataframe thead th {\n",
       "        text-align: left;\n",
       "    }\n",
       "\n",
       "    .dataframe tbody tr th {\n",
       "        vertical-align: top;\n",
       "    }\n",
       "</style>\n",
       "<table border=\"1\" class=\"dataframe\">\n",
       "  <thead>\n",
       "    <tr style=\"text-align: right;\">\n",
       "      <th></th>\n",
       "      <th>date</th>\n",
       "      <th>home_score</th>\n",
       "      <th>away_score</th>\n",
       "      <th>tournament</th>\n",
       "      <th>city</th>\n",
       "      <th>country</th>\n",
       "      <th>neutral</th>\n",
       "      <th>home_rank</th>\n",
       "      <th>home_weighted_points</th>\n",
       "      <th>home_team</th>\n",
       "      <th>away_rank</th>\n",
       "      <th>away_weighted_points</th>\n",
       "      <th>away_team</th>\n",
       "    </tr>\n",
       "  </thead>\n",
       "  <tbody>\n",
       "    <tr>\n",
       "      <th>Afghanistan</th>\n",
       "      <td>2015-12-26</td>\n",
       "      <td>0</td>\n",
       "      <td>3</td>\n",
       "      <td>SAFF Cup</td>\n",
       "      <td>Thiruvananthapuram</td>\n",
       "      <td>India</td>\n",
       "      <td>True</td>\n",
       "      <td>185.833333</td>\n",
       "      <td>0.000000</td>\n",
       "      <td>Bhutan</td>\n",
       "      <td>145.166667</td>\n",
       "      <td>104.065</td>\n",
       "      <td>Afghanistan</td>\n",
       "    </tr>\n",
       "    <tr>\n",
       "      <th>Afghanistan</th>\n",
       "      <td>2017-06-13</td>\n",
       "      <td>1</td>\n",
       "      <td>0</td>\n",
       "      <td>AFC Asian Cup qualification</td>\n",
       "      <td>Phnom Penh</td>\n",
       "      <td>Cambodia</td>\n",
       "      <td>False</td>\n",
       "      <td>169.833333</td>\n",
       "      <td>42.690000</td>\n",
       "      <td>Cambodia</td>\n",
       "      <td>145.166667</td>\n",
       "      <td>104.065</td>\n",
       "      <td>Afghanistan</td>\n",
       "    </tr>\n",
       "    <tr>\n",
       "      <th>Afghanistan</th>\n",
       "      <td>2016-01-03</td>\n",
       "      <td>2</td>\n",
       "      <td>1</td>\n",
       "      <td>SAFF Cup</td>\n",
       "      <td>Thiruvananthapuram</td>\n",
       "      <td>India</td>\n",
       "      <td>False</td>\n",
       "      <td>99.000000</td>\n",
       "      <td>202.945000</td>\n",
       "      <td>India</td>\n",
       "      <td>145.166667</td>\n",
       "      <td>104.065</td>\n",
       "      <td>Afghanistan</td>\n",
       "    </tr>\n",
       "    <tr>\n",
       "      <th>Afghanistan</th>\n",
       "      <td>2016-03-24</td>\n",
       "      <td>5</td>\n",
       "      <td>0</td>\n",
       "      <td>FIFA World Cup qualification</td>\n",
       "      <td>Saitama</td>\n",
       "      <td>Japan</td>\n",
       "      <td>False</td>\n",
       "      <td>57.833333</td>\n",
       "      <td>220.966667</td>\n",
       "      <td>Japan</td>\n",
       "      <td>145.166667</td>\n",
       "      <td>104.065</td>\n",
       "      <td>Afghanistan</td>\n",
       "    </tr>\n",
       "    <tr>\n",
       "      <th>Afghanistan</th>\n",
       "      <td>2017-09-05</td>\n",
       "      <td>4</td>\n",
       "      <td>1</td>\n",
       "      <td>AFC Asian Cup qualification</td>\n",
       "      <td>Amman</td>\n",
       "      <td>Jordan</td>\n",
       "      <td>False</td>\n",
       "      <td>115.166667</td>\n",
       "      <td>140.725000</td>\n",
       "      <td>Jordan</td>\n",
       "      <td>145.166667</td>\n",
       "      <td>104.065</td>\n",
       "      <td>Afghanistan</td>\n",
       "    </tr>\n",
       "  </tbody>\n",
       "</table>\n",
       "</div>"
      ],
      "text/plain": [
       "                   date  home_score  away_score                    tournament  \\\n",
       "Afghanistan  2015-12-26           0           3                      SAFF Cup   \n",
       "Afghanistan  2017-06-13           1           0   AFC Asian Cup qualification   \n",
       "Afghanistan  2016-01-03           2           1                      SAFF Cup   \n",
       "Afghanistan  2016-03-24           5           0  FIFA World Cup qualification   \n",
       "Afghanistan  2017-09-05           4           1   AFC Asian Cup qualification   \n",
       "\n",
       "                           city   country  neutral   home_rank  \\\n",
       "Afghanistan  Thiruvananthapuram     India     True  185.833333   \n",
       "Afghanistan          Phnom Penh  Cambodia    False  169.833333   \n",
       "Afghanistan  Thiruvananthapuram     India    False   99.000000   \n",
       "Afghanistan             Saitama     Japan    False   57.833333   \n",
       "Afghanistan               Amman    Jordan    False  115.166667   \n",
       "\n",
       "             home_weighted_points home_team   away_rank  away_weighted_points  \\\n",
       "Afghanistan              0.000000    Bhutan  145.166667               104.065   \n",
       "Afghanistan             42.690000  Cambodia  145.166667               104.065   \n",
       "Afghanistan            202.945000     India  145.166667               104.065   \n",
       "Afghanistan            220.966667     Japan  145.166667               104.065   \n",
       "Afghanistan            140.725000    Jordan  145.166667               104.065   \n",
       "\n",
       "               away_team  \n",
       "Afghanistan  Afghanistan  \n",
       "Afghanistan  Afghanistan  \n",
       "Afghanistan  Afghanistan  \n",
       "Afghanistan  Afghanistan  \n",
       "Afghanistan  Afghanistan  "
      ]
     },
     "execution_count": 458,
     "metadata": {},
     "output_type": "execute_result"
    }
   ],
   "source": [
    "df_combined.head()"
   ]
  },
  {
   "cell_type": "markdown",
   "metadata": {},
   "source": [
    "Removal of the non-world cup matches seems to aid prediction"
   ]
  },
  {
   "cell_type": "code",
   "execution_count": 459,
   "metadata": {
    "collapsed": true
   },
   "outputs": [],
   "source": [
    "df_combined = df_combined[df_combined['tournament'].str.contains('World')]"
   ]
  },
  {
   "cell_type": "markdown",
   "metadata": {},
   "source": [
    "# Feature generation"
   ]
  },
  {
   "cell_type": "code",
   "execution_count": 460,
   "metadata": {
    "collapsed": true
   },
   "outputs": [],
   "source": [
    "# Taking home team to be the one we are interested in \n",
    "df_combined['won'] = (df_combined['home_score'] - df_combined['away_score']) > 1\n",
    "df_combined.drop(['date', 'city', 'country','home_score','away_score'], axis=1, inplace=True)"
   ]
  },
  {
   "cell_type": "code",
   "execution_count": 461,
   "metadata": {
    "collapsed": true
   },
   "outputs": [],
   "source": [
    "df_combined['rank_diff'] = df_combined['home_rank'] - df_combined['away_rank']"
   ]
  },
  {
   "cell_type": "code",
   "execution_count": 462,
   "metadata": {
    "collapsed": false
   },
   "outputs": [
    {
     "data": {
      "text/html": [
       "<div>\n",
       "<style>\n",
       "    .dataframe thead tr:only-child th {\n",
       "        text-align: right;\n",
       "    }\n",
       "\n",
       "    .dataframe thead th {\n",
       "        text-align: left;\n",
       "    }\n",
       "\n",
       "    .dataframe tbody tr th {\n",
       "        vertical-align: top;\n",
       "    }\n",
       "</style>\n",
       "<table border=\"1\" class=\"dataframe\">\n",
       "  <thead>\n",
       "    <tr style=\"text-align: right;\">\n",
       "      <th></th>\n",
       "      <th>tournament</th>\n",
       "      <th>neutral</th>\n",
       "      <th>home_rank</th>\n",
       "      <th>home_weighted_points</th>\n",
       "      <th>home_team</th>\n",
       "      <th>away_rank</th>\n",
       "      <th>away_weighted_points</th>\n",
       "      <th>away_team</th>\n",
       "      <th>won</th>\n",
       "      <th>rank_diff</th>\n",
       "      <th>point_diff</th>\n",
       "    </tr>\n",
       "  </thead>\n",
       "  <tbody>\n",
       "    <tr>\n",
       "      <th>Afghanistan</th>\n",
       "      <td>FIFA World Cup qualification</td>\n",
       "      <td>False</td>\n",
       "      <td>57.833333</td>\n",
       "      <td>220.966667</td>\n",
       "      <td>Japan</td>\n",
       "      <td>145.166667</td>\n",
       "      <td>104.065000</td>\n",
       "      <td>Afghanistan</td>\n",
       "      <td>True</td>\n",
       "      <td>-87.333333</td>\n",
       "      <td>116.901667</td>\n",
       "    </tr>\n",
       "    <tr>\n",
       "      <th>Afghanistan</th>\n",
       "      <td>FIFA World Cup qualification</td>\n",
       "      <td>False</td>\n",
       "      <td>171.666667</td>\n",
       "      <td>31.260000</td>\n",
       "      <td>Singapore</td>\n",
       "      <td>145.166667</td>\n",
       "      <td>104.065000</td>\n",
       "      <td>Afghanistan</td>\n",
       "      <td>False</td>\n",
       "      <td>26.500000</td>\n",
       "      <td>-72.805000</td>\n",
       "    </tr>\n",
       "    <tr>\n",
       "      <th>Afghanistan</th>\n",
       "      <td>FIFA World Cup qualification</td>\n",
       "      <td>True</td>\n",
       "      <td>75.000000</td>\n",
       "      <td>232.328333</td>\n",
       "      <td>Syria</td>\n",
       "      <td>145.166667</td>\n",
       "      <td>104.065000</td>\n",
       "      <td>Afghanistan</td>\n",
       "      <td>True</td>\n",
       "      <td>-70.166667</td>\n",
       "      <td>128.263333</td>\n",
       "    </tr>\n",
       "    <tr>\n",
       "      <th>Albania</th>\n",
       "      <td>FIFA World Cup qualification</td>\n",
       "      <td>False</td>\n",
       "      <td>96.666667</td>\n",
       "      <td>60.405000</td>\n",
       "      <td>Israel</td>\n",
       "      <td>57.833333</td>\n",
       "      <td>243.603333</td>\n",
       "      <td>Albania</td>\n",
       "      <td>False</td>\n",
       "      <td>38.833333</td>\n",
       "      <td>-183.198333</td>\n",
       "    </tr>\n",
       "    <tr>\n",
       "      <th>Albania</th>\n",
       "      <td>FIFA World Cup qualification</td>\n",
       "      <td>False</td>\n",
       "      <td>16.833333</td>\n",
       "      <td>440.005000</td>\n",
       "      <td>Italy</td>\n",
       "      <td>57.833333</td>\n",
       "      <td>243.603333</td>\n",
       "      <td>Albania</td>\n",
       "      <td>True</td>\n",
       "      <td>-41.000000</td>\n",
       "      <td>196.401667</td>\n",
       "    </tr>\n",
       "  </tbody>\n",
       "</table>\n",
       "</div>"
      ],
      "text/plain": [
       "                               tournament  neutral   home_rank  \\\n",
       "Afghanistan  FIFA World Cup qualification    False   57.833333   \n",
       "Afghanistan  FIFA World Cup qualification    False  171.666667   \n",
       "Afghanistan  FIFA World Cup qualification     True   75.000000   \n",
       "Albania      FIFA World Cup qualification    False   96.666667   \n",
       "Albania      FIFA World Cup qualification    False   16.833333   \n",
       "\n",
       "             home_weighted_points  home_team   away_rank  \\\n",
       "Afghanistan            220.966667      Japan  145.166667   \n",
       "Afghanistan             31.260000  Singapore  145.166667   \n",
       "Afghanistan            232.328333      Syria  145.166667   \n",
       "Albania                 60.405000     Israel   57.833333   \n",
       "Albania                440.005000      Italy   57.833333   \n",
       "\n",
       "             away_weighted_points    away_team    won  rank_diff  point_diff  \n",
       "Afghanistan            104.065000  Afghanistan   True -87.333333  116.901667  \n",
       "Afghanistan            104.065000  Afghanistan  False  26.500000  -72.805000  \n",
       "Afghanistan            104.065000  Afghanistan   True -70.166667  128.263333  \n",
       "Albania                243.603333      Albania  False  38.833333 -183.198333  \n",
       "Albania                243.603333      Albania   True -41.000000  196.401667  "
      ]
     },
     "execution_count": 462,
     "metadata": {},
     "output_type": "execute_result"
    }
   ],
   "source": [
    "df_combined['point_diff'] = df_combined['home_weighted_points'] - df_combined['away_weighted_points']\n",
    "df_combined.head()"
   ]
  },
  {
   "cell_type": "code",
   "execution_count": 463,
   "metadata": {
    "collapsed": false
   },
   "outputs": [
    {
     "data": {
      "text/plain": [
       "tournament               object\n",
       "neutral                    bool\n",
       "home_rank               float64\n",
       "home_weighted_points    float64\n",
       "home_team                object\n",
       "away_rank               float64\n",
       "away_weighted_points    float64\n",
       "away_team                object\n",
       "won                        bool\n",
       "rank_diff               float64\n",
       "point_diff              float64\n",
       "dtype: object"
      ]
     },
     "execution_count": 463,
     "metadata": {},
     "output_type": "execute_result"
    }
   ],
   "source": [
    "df_combined.dtypes\n",
    "\n"
   ]
  },
  {
   "cell_type": "code",
   "execution_count": 464,
   "metadata": {
    "collapsed": true
   },
   "outputs": [],
   "source": [
    "df_combined['won'] = df_combined['won'].astype(int)"
   ]
  },
  {
   "cell_type": "markdown",
   "metadata": {},
   "source": [
    "# Data Balancing"
   ]
  },
  {
   "cell_type": "code",
   "execution_count": 465,
   "metadata": {
    "collapsed": true
   },
   "outputs": [],
   "source": [
    "from sklearn.utils import resample\n",
    "\n",
    "df = df_combined\n",
    "# Separate majority and minority classes\n",
    "df_majority = df[df.won==0]\n",
    "df_minority = df[df.won==1]\n",
    "df_majority.shape\n",
    "# Upsample minority class\n",
    "df_minority_upsampled = resample(df_minority, \n",
    "                                 replace=True,     # sample with replacement\n",
    "                                 n_samples=445,    # to match majority class\n",
    "                                 random_state=123) # reproducible results\n",
    " \n",
    "# Combine majority class with upsampled minority class\n",
    "df_upsampled = pd.concat([df_majority, df_minority_upsampled])\n",
    " \n",
    "# Display new class counts\n",
    "df_upsampled.won.value_counts()\n",
    "df_combined = df_upsampled"
   ]
  },
  {
   "cell_type": "markdown",
   "metadata": {},
   "source": [
    "# Model Building"
   ]
  },
  {
   "cell_type": "code",
   "execution_count": 470,
   "metadata": {
    "collapsed": true
   },
   "outputs": [],
   "source": [
    "y = df_combined['won']\n",
    "X = df_combined.drop(['won'], axis=1)\n",
    "\n",
    "# Preprocessing one hot\n",
    "from sklearn.preprocessing import OneHotEncoder, LabelEncoder\n",
    "\n",
    "X_cat = X.select_dtypes(include=[object, bool])\n",
    "le = LabelEncoder()\n",
    "X_cat_labelled = X_cat.apply(le.fit_transform)\n",
    "X_cat_labelled.head()\n",
    "X = X.drop(['tournament', 'neutral','home_team', 'away_team'], axis=1)\n",
    "X = pd.concat([X, X_cat_labelled], axis=1)\n",
    "y = le.fit_transform(y)\n",
    "X.head()\n",
    "X.to_csv('home_away_reference.csv')\n",
    "# X.hist()\n",
    "# plt.show()\n",
    "# pd.DataFrame(y).hist()\n",
    "# plt.show()"
   ]
  },
  {
   "cell_type": "code",
   "execution_count": null,
   "metadata": {
    "collapsed": true
   },
   "outputs": [],
   "source": []
  },
  {
   "cell_type": "markdown",
   "metadata": {},
   "source": [
    "# Correlation Matrix"
   ]
  },
  {
   "cell_type": "code",
   "execution_count": 471,
   "metadata": {
    "collapsed": false
   },
   "outputs": [
    {
     "data": {
      "text/plain": [
       "<matplotlib.axes._subplots.AxesSubplot at 0x7f5dad0cfcc0>"
      ]
     },
     "execution_count": 471,
     "metadata": {},
     "output_type": "execute_result"
    }
   ],
   "source": [
    "from string import ascii_letters\n",
    "import numpy as np\n",
    "import pandas as pd\n",
    "import seaborn as sns\n",
    "import matplotlib.pyplot as plt\n",
    "\n",
    "# Compute the correlation matrix\n",
    "corr = df_combined.corr()\n",
    "\n",
    "# Generate a mask for the upper triangle\n",
    "mask = np.zeros_like(corr, dtype=np.bool)\n",
    "mask[np.triu_indices_from(mask)] = True\n",
    "\n",
    "# Set up the matplotlib figure\n",
    "f, ax = plt.subplots(figsize=(11, 9))\n",
    "\n",
    "# Generate a custom diverging colormap\n",
    "cmap = sns.diverging_palette(220, 10, as_cmap=True)\n",
    "\n",
    "# Draw the heatmap with the mask and correct aspect ratio\n",
    "sns.heatmap(corr, mask=mask, cmap=cmap, vmax=.3, center=0,\n",
    "            square=True, linewidths=.5, cbar_kws={\"shrink\": .5})"
   ]
  },
  {
   "cell_type": "code",
   "execution_count": null,
   "metadata": {
    "collapsed": true
   },
   "outputs": [],
   "source": []
  },
  {
   "cell_type": "code",
   "execution_count": 472,
   "metadata": {
    "collapsed": false
   },
   "outputs": [
    {
     "data": {
      "text/html": [
       "<div>\n",
       "<style>\n",
       "    .dataframe thead tr:only-child th {\n",
       "        text-align: right;\n",
       "    }\n",
       "\n",
       "    .dataframe thead th {\n",
       "        text-align: left;\n",
       "    }\n",
       "\n",
       "    .dataframe tbody tr th {\n",
       "        vertical-align: top;\n",
       "    }\n",
       "</style>\n",
       "<table border=\"1\" class=\"dataframe\">\n",
       "  <thead>\n",
       "    <tr style=\"text-align: right;\">\n",
       "      <th></th>\n",
       "      <th>home_rank</th>\n",
       "      <th>home_weighted_points</th>\n",
       "      <th>away_rank</th>\n",
       "      <th>away_weighted_points</th>\n",
       "      <th>rank_diff</th>\n",
       "      <th>point_diff</th>\n",
       "      <th>tournament</th>\n",
       "      <th>neutral</th>\n",
       "      <th>home_team</th>\n",
       "      <th>away_team</th>\n",
       "    </tr>\n",
       "  </thead>\n",
       "  <tbody>\n",
       "    <tr>\n",
       "      <th>Iraq</th>\n",
       "      <td>79.000000</td>\n",
       "      <td>183.250000</td>\n",
       "      <td>86.333333</td>\n",
       "      <td>242.390000</td>\n",
       "      <td>-7.333333</td>\n",
       "      <td>-59.140000</td>\n",
       "      <td>1</td>\n",
       "      <td>0</td>\n",
       "      <td>151</td>\n",
       "      <td>66</td>\n",
       "    </tr>\n",
       "    <tr>\n",
       "      <th>Mauritania</th>\n",
       "      <td>154.666667</td>\n",
       "      <td>54.198333</td>\n",
       "      <td>104.166667</td>\n",
       "      <td>142.081667</td>\n",
       "      <td>50.500000</td>\n",
       "      <td>-87.883333</td>\n",
       "      <td>1</td>\n",
       "      <td>0</td>\n",
       "      <td>132</td>\n",
       "      <td>92</td>\n",
       "    </tr>\n",
       "    <tr>\n",
       "      <th>Syria</th>\n",
       "      <td>101.166667</td>\n",
       "      <td>135.383333</td>\n",
       "      <td>75.000000</td>\n",
       "      <td>232.328333</td>\n",
       "      <td>26.166667</td>\n",
       "      <td>-96.945000</td>\n",
       "      <td>1</td>\n",
       "      <td>0</td>\n",
       "      <td>115</td>\n",
       "      <td>138</td>\n",
       "    </tr>\n",
       "    <tr>\n",
       "      <th>Solomon Islands</th>\n",
       "      <td>156.166667</td>\n",
       "      <td>48.875000</td>\n",
       "      <td>150.333333</td>\n",
       "      <td>117.980000</td>\n",
       "      <td>5.833333</td>\n",
       "      <td>-69.105000</td>\n",
       "      <td>1</td>\n",
       "      <td>1</td>\n",
       "      <td>139</td>\n",
       "      <td>129</td>\n",
       "    </tr>\n",
       "    <tr>\n",
       "      <th>Nigeria</th>\n",
       "      <td>16.833333</td>\n",
       "      <td>477.556667</td>\n",
       "      <td>49.500000</td>\n",
       "      <td>280.283333</td>\n",
       "      <td>-32.666667</td>\n",
       "      <td>197.273333</td>\n",
       "      <td>0</td>\n",
       "      <td>1</td>\n",
       "      <td>32</td>\n",
       "      <td>104</td>\n",
       "    </tr>\n",
       "  </tbody>\n",
       "</table>\n",
       "</div>"
      ],
      "text/plain": [
       "                  home_rank  home_weighted_points   away_rank  \\\n",
       "Iraq              79.000000            183.250000   86.333333   \n",
       "Mauritania       154.666667             54.198333  104.166667   \n",
       "Syria            101.166667            135.383333   75.000000   \n",
       "Solomon Islands  156.166667             48.875000  150.333333   \n",
       "Nigeria           16.833333            477.556667   49.500000   \n",
       "\n",
       "                 away_weighted_points  rank_diff  point_diff  tournament  \\\n",
       "Iraq                       242.390000  -7.333333  -59.140000           1   \n",
       "Mauritania                 142.081667  50.500000  -87.883333           1   \n",
       "Syria                      232.328333  26.166667  -96.945000           1   \n",
       "Solomon Islands            117.980000   5.833333  -69.105000           1   \n",
       "Nigeria                    280.283333 -32.666667  197.273333           0   \n",
       "\n",
       "                 neutral  home_team  away_team  \n",
       "Iraq                   0        151         66  \n",
       "Mauritania             0        132         92  \n",
       "Syria                  0        115        138  \n",
       "Solomon Islands        1        139        129  \n",
       "Nigeria                1         32        104  "
      ]
     },
     "execution_count": 472,
     "metadata": {},
     "output_type": "execute_result"
    }
   ],
   "source": [
    "from sklearn.model_selection import train_test_split\n",
    "X_train, X_test, y_train, y_test = train_test_split(X, y, test_size=0.2, random_state=42)\n",
    "X_train.head()"
   ]
  },
  {
   "cell_type": "markdown",
   "metadata": {},
   "source": [
    "Do logistic regression with cross validation first"
   ]
  },
  {
   "cell_type": "code",
   "execution_count": 473,
   "metadata": {
    "collapsed": false
   },
   "outputs": [
    {
     "data": {
      "text/plain": [
       "array([ 0.76923077,  0.79020979,  0.76923077,  0.8028169 ,  0.76595745])"
      ]
     },
     "execution_count": 473,
     "metadata": {},
     "output_type": "execute_result"
    }
   ],
   "source": [
    "from sklearn import linear_model\n",
    "from sklearn.model_selection import cross_val_score\n",
    "from sklearn.preprocessing import PolynomialFeatures\n",
    "from sklearn.pipeline import Pipeline\n",
    "from sklearn.naive_bayes import GaussianNB, BernoulliNB, MultinomialNB\n",
    "from sklearn.ensemble import RandomForestClassifier\n",
    "\n",
    "# logreg = linear_model.LogisticRegression(C=0.013)\n",
    "# features = PolynomialFeatures(degree=3)\n",
    "# model = Pipeline([\n",
    "#     ('polynomial_features', features),\n",
    "#     ('logistic_regression', logreg)\n",
    "# ])\n",
    "# model = model.fit(X_train, y_train)\n",
    "\n",
    "# Bayesian\n",
    "# model = GaussianNB()\n",
    "# model = model.fit(X_train, y_train)\n",
    "\n",
    "# Random Forest\n",
    "model = RandomForestClassifier(max_depth=3, random_state=0)\n",
    "model.fit(X_train, y_train)\n",
    "\n",
    "\n",
    "# clf = linear_model.LogisticRegression(C=0.013)\n",
    "# # log_fit = clf.fit(X_train, y_train)\n",
    "# # log_fit.score(X_test, y_test)\n",
    "scores = cross_val_score(model, X_train, y_train, cv=5)\n",
    "scores"
   ]
  },
  {
   "cell_type": "code",
   "execution_count": 474,
   "metadata": {
    "collapsed": true
   },
   "outputs": [],
   "source": [
    "import pandas as pd\n",
    "import matplotlib.pyplot as plt\n",
    "import seaborn as sns\n",
    "\n",
    "def print_confusion_matrix(confusion_matrix, class_names, figsize = (10,7), fontsize=14):\n",
    "    \"\"\"Prints a confusion matrix, as returned by sklearn.metrics.confusion_matrix, as a heatmap.\n",
    "    \n",
    "    Arguments\n",
    "    ---------\n",
    "    confusion_matrix: numpy.ndarray\n",
    "        The numpy.ndarray object returned from a call to sklearn.metrics.confusion_matrix. \n",
    "        Similarly constructed ndarrays can also be used.\n",
    "    class_names: list\n",
    "        An ordered list of class names, in the order they index the given confusion matrix.\n",
    "    figsize: tuple\n",
    "        A 2-long tuple, the first value determining the horizontal size of the ouputted figure,\n",
    "        the second determining the vertical size. Defaults to (10,7).\n",
    "    fontsize: int\n",
    "        Font size for axes labels. Defaults to 14.\n",
    "        \n",
    "    Returns\n",
    "    -------\n",
    "    matplotlib.figure.Figure\n",
    "        The resulting confusion matrix figure\n",
    "    \"\"\"\n",
    "    df_cm = pd.DataFrame(\n",
    "        confusion_matrix, index=class_names, columns=class_names, \n",
    "    )\n",
    "    fig = plt.figure(figsize=figsize)\n",
    "    try:\n",
    "        heatmap = sns.heatmap(df_cm, annot=True, fmt=\"d\")\n",
    "    except ValueError:\n",
    "        raise ValueError(\"Confusion matrix values must be integers.\")\n",
    "    heatmap.yaxis.set_ticklabels(heatmap.yaxis.get_ticklabels(), rotation=0, ha='right', fontsize=fontsize)\n",
    "    heatmap.xaxis.set_ticklabels(heatmap.xaxis.get_ticklabels(), rotation=45, ha='right', fontsize=fontsize)\n",
    "    plt.ylabel('True label')\n",
    "    plt.xlabel('Predicted label')\n",
    "    return fig"
   ]
  },
  {
   "cell_type": "markdown",
   "metadata": {},
   "source": [
    "Test on test data"
   ]
  },
  {
   "cell_type": "code",
   "execution_count": 475,
   "metadata": {
    "collapsed": false
   },
   "outputs": [
    {
     "data": {
      "image/png": "[encoded data removed]",
      "text/plain": [
       "<matplotlib.figure.Figure at 0x7f5dae9f5358>"
      ]
     },
     "execution_count": 475,
     "metadata": {},
     "output_type": "execute_result"
    }
   ],
   "source": [
    "from sklearn import metrics\n",
    "#model.score(X_test, y_test)\n",
    "pred = model.predict(X_test)\n",
    "cm = metrics.confusion_matrix(y_test, pred )\n",
    "print_confusion_matrix(cm, ['lost', 'won'])"
   ]
  },
  {
   "cell_type": "code",
   "execution_count": 476,
   "metadata": {
    "collapsed": false
   },
   "outputs": [
    {
     "name": "stdout",
     "output_type": "stream",
     "text": [
      "area under curve: 0.7699254768220285\n",
      "accuracy: 0.7696629213483146\n",
      "precision: [ 0.78409091  0.75555556]\n",
      "recall: [ 0.75824176  0.7816092 ]\n",
      "fscore: [ 0.77094972  0.76836158]\n",
      "support: [91 87]\n"
     ]
    }
   ],
   "source": [
    "from sklearn.metrics import roc_auc_score, precision_recall_fscore_support, accuracy_score\n",
    "\n",
    "print('area under curve: {}'.format(roc_auc_score(y_test, pred)))\n",
    "print('accuracy: {}'.format(accuracy_score(y_test, pred)))\n",
    "precision, recall, fscore, support = precision_recall_fscore_support(y_test, pred)\n",
    "\n",
    "print('precision: {}'.format(precision))\n",
    "print('recall: {}'.format(recall))\n",
    "print('fscore: {}'.format(fscore))\n",
    "print('support: {}'.format(support))"
   ]
  },
  {
   "cell_type": "code",
   "execution_count": 477,
   "metadata": {
    "collapsed": true
   },
   "outputs": [],
   "source": [
    "# Bayesian 0.71106382978723404\n",
    "# Logistic 0.74416413373860191\n",
    "X_train.to_csv('X_train.csv')\n",
    "X_test.to_csv('X_test.csv')"
   ]
  },
  {
   "cell_type": "markdown",
   "metadata": {},
   "source": [
    "# Let's Predict Tonight's Match! Germany vs South Korea!"
   ]
  },
  {
   "cell_type": "code",
   "execution_count": 28,
   "metadata": {
    "collapsed": true
   },
   "outputs": [],
   "source": [
    "df_germany = pd.read_csv('data/Y_Germany.csv') # Pre-created data for Germany vs South Korea"
   ]
  },
  {
   "cell_type": "code",
   "execution_count": 29,
   "metadata": {},
   "outputs": [
    {
     "data": {
      "text/html": [
       "<div>\n",
       "<style>\n",
       "    .dataframe thead tr:only-child th {\n",
       "        text-align: right;\n",
       "    }\n",
       "\n",
       "    .dataframe thead th {\n",
       "        text-align: left;\n",
       "    }\n",
       "\n",
       "    .dataframe tbody tr th {\n",
       "        vertical-align: top;\n",
       "    }\n",
       "</style>\n",
       "<table border=\"1\" class=\"dataframe\">\n",
       "  <thead>\n",
       "    <tr style=\"text-align: right;\">\n",
       "      <th></th>\n",
       "      <th>NA</th>\n",
       "      <th>home_rank</th>\n",
       "      <th>home_weighted_points</th>\n",
       "      <th>away_rank</th>\n",
       "      <th>away_weighted_points</th>\n",
       "      <th>rank_diff</th>\n",
       "      <th>point_diff</th>\n",
       "      <th>tournament</th>\n",
       "      <th>neutral</th>\n",
       "      <th>home_team</th>\n",
       "      <th>away_team</th>\n",
       "    </tr>\n",
       "  </thead>\n",
       "  <tbody>\n",
       "    <tr>\n",
       "      <th>0</th>\n",
       "      <td>NaN</td>\n",
       "      <td>1</td>\n",
       "      <td>822.736667</td>\n",
       "      <td>59.166667</td>\n",
       "      <td>183.176667</td>\n",
       "      <td>-58.166667</td>\n",
       "      <td>639.560000</td>\n",
       "      <td>1</td>\n",
       "      <td>0</td>\n",
       "      <td>52</td>\n",
       "      <td>73</td>\n",
       "    </tr>\n",
       "    <tr>\n",
       "      <th>1</th>\n",
       "      <td>NaN</td>\n",
       "      <td>16</td>\n",
       "      <td>183.176667</td>\n",
       "      <td>21.000000</td>\n",
       "      <td>578.833333</td>\n",
       "      <td>-5.000000</td>\n",
       "      <td>-395.656667</td>\n",
       "      <td>1</td>\n",
       "      <td>0</td>\n",
       "      <td>93</td>\n",
       "      <td>136</td>\n",
       "    </tr>\n",
       "  </tbody>\n",
       "</table>\n",
       "</div>"
      ],
      "text/plain": [
       "   NA  home_rank  home_weighted_points  away_rank  away_weighted_points  \\\n",
       "0 NaN          1            822.736667  59.166667            183.176667   \n",
       "1 NaN         16            183.176667  21.000000            578.833333   \n",
       "\n",
       "   rank_diff  point_diff  tournament  neutral  home_team  away_team  \n",
       "0 -58.166667  639.560000           1        0         52         73  \n",
       "1  -5.000000 -395.656667           1        0         93        136  "
      ]
     },
     "execution_count": 29,
     "metadata": {},
     "output_type": "execute_result"
    }
   ],
   "source": [
    "df_germany\n"
   ]
  },
  {
   "cell_type": "code",
   "execution_count": 30,
   "metadata": {},
   "outputs": [],
   "source": [
    "df_germany = df_germany.drop(df_germany.columns[0], axis=1) # drop NA column"
   ]
  },
  {
   "cell_type": "code",
   "execution_count": 31,
   "metadata": {},
   "outputs": [],
   "source": [
    "answer = model.predict(df_germany)"
   ]
  },
  {
   "cell_type": "code",
   "execution_count": 32,
   "metadata": {},
   "outputs": [
    {
     "name": "stdout",
     "output_type": "stream",
     "text": [
      "[1 0]\n"
     ]
    }
   ],
   "source": [
    "print(answer)"
   ]
  },
  {
   "cell_type": "markdown",
   "metadata": {},
   "source": [
    "# Hence Germany is predicted to win tonight's match against South Korea, with 77% accuracy. "
   ]
  },
  {
   "cell_type": "markdown",
   "metadata": {},
   "source": [
    "Mexico is predicted to lose to Sweden as well. "
   ]
  },
  {
   "cell_type": "code",
   "execution_count": null,
   "metadata": {},
   "outputs": [],
   "source": []
  }
 ],
 "metadata": {
  "kernelspec": {
   "display_name": "Python 3",
   "language": "python",
   "name": "python3"
  },
  "language_info": {
   "codemirror_mode": {
    "name": "ipython",
    "version": 3
   },
   "file_extension": ".py",
   "mimetype": "text/x-python",
   "name": "python",
   "nbconvert_exporter": "python",
   "pygments_lexer": "ipython3",
   "version": "3.6.3"
  }
 },
 "nbformat": 4,
 "nbformat_minor": 2
}
